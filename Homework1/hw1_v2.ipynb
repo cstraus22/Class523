{
 "cells": [
  {
   "cell_type": "code",
   "execution_count": 1,
   "metadata": {},
   "outputs": [],
   "source": [
    "#Homework 1 for ATMS 523  due Friday 9/2/22\n",
    "#created by Katie Straus\n",
    "#python version 3.9\n",
    "#overview: create matrix of random numbers where the dimensions come from user input\n",
    "#and the top limit of the random number generator is set by the user. Then calculate\n",
    "#the eigen values and display them\n",
    "\n",
    "import numpy as np "
   ]
  },
  {
   "cell_type": "code",
   "execution_count": null,
   "metadata": {},
   "outputs": [],
   "source": [
    "testing"
   ]
  },
  {
   "cell_type": "code",
   "execution_count": 5,
   "metadata": {},
   "outputs": [
    {
     "name": "stdout",
     "output_type": "stream",
     "text": [
      "2 2 10\n",
      "[[2 0]\n",
      " [1 9]]\n"
     ]
    },
    {
     "ename": "AttributeError",
     "evalue": "module 'numpy.linalg' has no attribute 'eigval'",
     "output_type": "error",
     "traceback": [
      "\u001b[0;31m---------------------------------------------------------------------------\u001b[0m",
      "\u001b[0;31mAttributeError\u001b[0m                            Traceback (most recent call last)",
      "\u001b[1;32m/Users/catherinestraus/Documents/Documents/hw1_v2.ipynb Cell 2\u001b[0m in \u001b[0;36m<cell line: 7>\u001b[0;34m()\u001b[0m\n\u001b[1;32m      <a href='vscode-notebook-cell:/Users/catherinestraus/Documents/Documents/hw1_v2.ipynb#W3sZmlsZQ%3D%3D?line=4'>5</a>\u001b[0m M\u001b[39m=\u001b[39mnp\u001b[39m.\u001b[39mrandom\u001b[39m.\u001b[39mrandint(n,size\u001b[39m=\u001b[39m(a,b))\n\u001b[1;32m      <a href='vscode-notebook-cell:/Users/catherinestraus/Documents/Documents/hw1_v2.ipynb#W3sZmlsZQ%3D%3D?line=5'>6</a>\u001b[0m \u001b[39mprint\u001b[39m (M)\n\u001b[0;32m----> <a href='vscode-notebook-cell:/Users/catherinestraus/Documents/Documents/hw1_v2.ipynb#W3sZmlsZQ%3D%3D?line=6'>7</a>\u001b[0m EM\u001b[39m=\u001b[39mnp\u001b[39m.\u001b[39;49mlinalg\u001b[39m.\u001b[39;49meigval(M)\u001b[39m#\u001b[39;00m\n\u001b[1;32m      <a href='vscode-notebook-cell:/Users/catherinestraus/Documents/Documents/hw1_v2.ipynb#W3sZmlsZQ%3D%3D?line=7'>8</a>\u001b[0m \u001b[39mprint\u001b[39m(EM)\n",
      "\u001b[0;31mAttributeError\u001b[0m: module 'numpy.linalg' has no attribute 'eigval'"
     ]
    }
   ],
   "source": [
    "a=int(input(\"Enter number of matrix rows=\"))\n",
    "b=int(input(\"Enter number of columns=\"))\n",
    "n=int(input(\"Enter upper bound for random number generator=\"))\n",
    "print(a,b,n)\n",
    "M=np.random.randint(n,size=(a,b))\n",
    "print (M)\n",
    "EM=np.linalg.eigval(M)#\n",
    "print(EM)\n",
    "#b=np.random.randint(2,size=10)\n",
    "#print(b)"
   ]
  },
  {
   "cell_type": "code",
   "execution_count": 3,
   "metadata": {},
   "outputs": [
    {
     "data": {
      "text/plain": [
       "str"
      ]
     },
     "execution_count": 3,
     "metadata": {},
     "output_type": "execute_result"
    }
   ],
   "source": [
    "type(a)"
   ]
  }
 ],
 "metadata": {
  "kernelspec": {
   "display_name": "Python 3.9.13 ('class523')",
   "language": "python",
   "name": "python3"
  },
  "language_info": {
   "codemirror_mode": {
    "name": "ipython",
    "version": 3
   },
   "file_extension": ".py",
   "mimetype": "text/x-python",
   "name": "python",
   "nbconvert_exporter": "python",
   "pygments_lexer": "ipython3",
   "version": "3.9.13"
  },
  "orig_nbformat": 4,
  "vscode": {
   "interpreter": {
    "hash": "db8afb84163e5338923c717c4038c60801b1bfa9d2c8e36d2e4c160127a327b0"
   }
  }
 },
 "nbformat": 4,
 "nbformat_minor": 2
}
